{
  "cells": [
    {
      "cell_type": "markdown",
      "source": [
        "# Logistic Regression"
      ],
      "metadata": {
        "id": "SPN8OIe0qqQ9"
      }
    },
    {
      "cell_type": "markdown",
      "metadata": {
        "id": "aRPeyNyoW_tn"
      },
      "source": [
        "## Import Library"
      ]
    },
    {
      "cell_type": "code",
      "execution_count": 1,
      "metadata": {
        "id": "Bqm08DmWW_WT"
      },
      "outputs": [],
      "source": [
        "import pandas as pd\n",
        "from sklearn.model_selection import train_test_split\n",
        "from sklearn.preprocessing import OneHotEncoder\n",
        "from sklearn.linear_model import LogisticRegression\n",
        "from sklearn.metrics import accuracy_score\n",
        "from imblearn.under_sampling import RandomUnderSampler\n",
        "import matplotlib.pyplot as plt"
      ]
    },
    {
      "cell_type": "markdown",
      "metadata": {
        "id": "G-MQSNymXGke"
      },
      "source": [
        "## Load dataset"
      ]
    },
    {
      "cell_type": "code",
      "execution_count": 2,
      "metadata": {
        "colab": {
          "base_uri": "https://localhost:8080/"
        },
        "id": "IywLubQxUJn1",
        "outputId": "e48737e5-ba9a-4a5d-95c7-335a980998e6"
      },
      "outputs": [
        {
          "output_type": "stream",
          "name": "stdout",
          "text": [
            "rows of original dataset: 494020\n",
            "   duration protocol_type service flag  src_bytes  dst_bytes  land  \\\n",
            "0         0           tcp    http   SF        181       5450     0   \n",
            "1         0           tcp    http   SF        239        486     0   \n",
            "2         0           tcp    http   SF        235       1337     0   \n",
            "3         0           tcp    http   SF        219       1337     0   \n",
            "4         0           tcp    http   SF        217       2032     0   \n",
            "\n",
            "   wrong_fragment  urgent  hot  ...  dst_host_srv_count  \\\n",
            "0               0       0    0  ...                   9   \n",
            "1               0       0    0  ...                  19   \n",
            "2               0       0    0  ...                  29   \n",
            "3               0       0    0  ...                  39   \n",
            "4               0       0    0  ...                  49   \n",
            "\n",
            "   dst_host_same_srv_rate  dst_host_diff_srv_rate  \\\n",
            "0                     1.0                     0.0   \n",
            "1                     1.0                     0.0   \n",
            "2                     1.0                     0.0   \n",
            "3                     1.0                     0.0   \n",
            "4                     1.0                     0.0   \n",
            "\n",
            "   dst_host_same_src_port_rate  dst_host_srv_diff_host_rate  \\\n",
            "0                         0.11                          0.0   \n",
            "1                         0.05                          0.0   \n",
            "2                         0.03                          0.0   \n",
            "3                         0.03                          0.0   \n",
            "4                         0.02                          0.0   \n",
            "\n",
            "   dst_host_serror_rate  dst_host_srv_serror_rate  dst_host_rerror_rate  \\\n",
            "0                   0.0                       0.0                   0.0   \n",
            "1                   0.0                       0.0                   0.0   \n",
            "2                   0.0                       0.0                   0.0   \n",
            "3                   0.0                       0.0                   0.0   \n",
            "4                   0.0                       0.0                   0.0   \n",
            "\n",
            "   dst_host_srv_rerror_rate   label  \n",
            "0                       0.0  normal  \n",
            "1                       0.0  normal  \n",
            "2                       0.0  normal  \n",
            "3                       0.0  normal  \n",
            "4                       0.0  normal  \n",
            "\n",
            "[5 rows x 42 columns]\n",
            "unique protocol_type: ['tcp' 'udp' 'icmp']\n",
            "unique service: ['http' 'smtp' 'finger' 'domain_u' 'auth' 'telnet' 'ftp' 'eco_i' 'ntp_u'\n",
            " 'ecr_i' 'other' 'private' 'pop_3' 'ftp_data' 'rje' 'time' 'mtp' 'link'\n",
            " 'remote_job' 'gopher' 'ssh' 'name' 'whois' 'domain' 'login' 'imap4'\n",
            " 'daytime' 'ctf' 'nntp' 'shell' 'IRC' 'nnsp' 'http_443' 'exec' 'printer'\n",
            " 'efs' 'courier' 'uucp' 'klogin' 'kshell' 'echo' 'discard' 'systat'\n",
            " 'supdup' 'iso_tsap' 'hostnames' 'csnet_ns' 'pop_2' 'sunrpc' 'uucp_path'\n",
            " 'netbios_ns' 'netbios_ssn' 'netbios_dgm' 'sql_net' 'vmnet' 'bgp' 'Z39_50'\n",
            " 'ldap' 'netstat' 'urh_i' 'X11' 'urp_i' 'pm_dump' 'tftp_u' 'tim_i' 'red_i']\n",
            "unique flag: ['SF' 'S1' 'REJ' 'S2' 'S0' 'S3' 'RSTO' 'RSTR' 'RSTOS0' 'OTH' 'SH']\n",
            "unique labels: ['normal' 'buffer_overflow' 'loadmodule' 'perl' 'neptune' 'smurf'\n",
            " 'guess_passwd' 'pod' 'teardrop' 'portsweep' 'ipsweep' 'land' 'ftp_write'\n",
            " 'back' 'imap' 'satan' 'phf' 'nmap' 'multihop' 'warezmaster' 'warezclient'\n",
            " 'spy' 'rootkit']\n"
          ]
        }
      ],
      "source": [
        "df = pd.read_csv(\"kddcup99_csv.csv\", header=0)\n",
        "print(\"rows of original dataset:\", len(df))\n",
        "print(df.head())\n",
        "print(\"unique protocol_type:\", df['protocol_type'].unique())\n",
        "print(\"unique service:\", df['service'].unique())\n",
        "print(\"unique flag:\", df['flag'].unique())\n",
        "print(\"unique labels:\", df['label'].unique())"
      ]
    },
    {
      "cell_type": "markdown",
      "metadata": {
        "id": "STr1H2SUx7KN"
      },
      "source": [
        "## Preprocessing"
      ]
    },
    {
      "cell_type": "code",
      "execution_count": 3,
      "metadata": {
        "colab": {
          "base_uri": "https://localhost:8080/"
        },
        "id": "P4jhw8YW1sAn",
        "outputId": "cb91dbe4-117b-4239-a186-1fe6d7444cc4"
      },
      "outputs": [
        {
          "output_type": "stream",
          "name": "stdout",
          "text": [
            "Rows of filtered data: 396743\n",
            "Number of probe attacks: 4107, number of non-probe attacks: 392636\n",
            "   duration  src_bytes  dst_bytes  land  wrong_fragment  urgent  hot  \\\n",
            "0       184       1511       2957     0               0       0    3   \n",
            "1       305       1735       2766     0               0       0    3   \n",
            "2        79        281       1301     0               0       0    2   \n",
            "3        25        269       2333     0               0       0    0   \n",
            "4         0          0          0     0               0       0    0   \n",
            "\n",
            "   num_failed_logins  logged_in  lnum_compromised  ...  flag_RSTO  \\\n",
            "0                  0          1                 2  ...        0.0   \n",
            "1                  0          1                 2  ...        0.0   \n",
            "2                  0          1                 1  ...        0.0   \n",
            "3                  0          1                 0  ...        0.0   \n",
            "4                  0          0                 0  ...        0.0   \n",
            "\n",
            "   flag_RSTOS0  flag_RSTR  flag_S0  flag_S1  flag_S2  flag_S3  flag_SF  \\\n",
            "0          0.0        0.0      0.0      0.0      0.0      0.0      1.0   \n",
            "1          0.0        0.0      0.0      0.0      0.0      0.0      1.0   \n",
            "2          0.0        0.0      0.0      0.0      0.0      0.0      1.0   \n",
            "3          0.0        0.0      0.0      0.0      0.0      0.0      1.0   \n",
            "4          0.0        0.0      1.0      0.0      0.0      0.0      0.0   \n",
            "\n",
            "   flag_SH  attack_class  \n",
            "0      0.0             1  \n",
            "1      0.0             1  \n",
            "2      0.0             1  \n",
            "3      0.0             1  \n",
            "4      0.0             1  \n",
            "\n",
            "[5 rows x 115 columns]\n"
          ]
        }
      ],
      "source": [
        "# Get abnormal df\n",
        "df_abnormal = df[df.iloc[:, -1] != 'normal']\n",
        "\n",
        "# One-hot encode categorical features\n",
        "encoder = OneHotEncoder()\n",
        "df_encoded = encoder.fit_transform(df_abnormal[['protocol_type', 'service', 'flag']])\n",
        "\n",
        "# Convert sparse matrix to a DataFrame and reset the index\n",
        "df_encoded = pd.DataFrame(df_encoded.toarray(), columns=encoder.get_feature_names_out())\n",
        "df_encoded.reset_index(drop=True, inplace=True)\n",
        "\n",
        "# Drop the original categorical columns from df_abnormal\n",
        "df_abnormal_dropped = df_abnormal.drop(columns=['protocol_type', 'service', 'flag']).reset_index(drop=True)\n",
        "\n",
        "# Combine df_encoded (one-hot encoded) and df_abnormal_dropped (the rest of the columns)\n",
        "df_filtered = pd.concat([df_abnormal_dropped, df_encoded], axis=1)\n",
        "\n",
        "# Classify data into probe attack and not probe classes\n",
        "PROBE_ATTACK = ['ipsweep', 'nmap', 'portsweep', 'satan']\n",
        "df_filtered['attack_class'] = df_filtered['label'].apply(\n",
        "    lambda x: 0 if x in PROBE_ATTACK else 1\n",
        ")\n",
        "\n",
        "# Remove column \"label\"\n",
        "df_filtered.drop(columns=['label'], inplace=True)\n",
        "\n",
        "\n",
        "\n",
        "# Count number of probe and non-probe attacks\n",
        "probe_num = (df_filtered['attack_class'] == 0).sum()\n",
        "nonprobe_num = (df_filtered['attack_class'] == 1).sum()\n",
        "\n",
        "# Display the filtered dataframe\n",
        "print(\"Rows of filtered data:\", len(df_filtered))\n",
        "print(f\"Number of probe attacks: {probe_num}, number of non-probe attacks: {nonprobe_num}\")\n",
        "print(df_filtered.head())"
      ]
    },
    {
      "cell_type": "markdown",
      "source": [
        "## Resample data"
      ],
      "metadata": {
        "id": "osrt4zg8aDno"
      }
    },
    {
      "cell_type": "code",
      "source": [
        "# Split the DataFrame into features (X) and target (y)\n",
        "X = df_filtered.iloc[:, :-1]  # All columns except the last one (features)\n",
        "y = df_filtered['attack_class']  # The 'attack_class' column (target)\n",
        "\n",
        "# Balance the dataset using undersampling\n",
        "rus = RandomUnderSampler(random_state=42)\n",
        "X_resampled, y_resampled = rus.fit_resample(X, y)\n",
        "\n",
        "# Count number of probe and non-probe attacks\n",
        "probe_num = (y_resampled == 0).sum()\n",
        "nonprobe_num = (y_resampled == 1).sum()\n",
        "\n",
        "# Display the resampled dataframe\n",
        "print(\"Rows of resampled data:\", len(X_resampled))\n",
        "print(f\"Number of probe attacks: {probe_num}, number of non-probe attacks: {nonprobe_num}\")"
      ],
      "metadata": {
        "colab": {
          "base_uri": "https://localhost:8080/"
        },
        "id": "6t8PbF7qaB0d",
        "outputId": "c6f4c668-8543-4598-f57c-d63bf4bf23b2"
      },
      "execution_count": 4,
      "outputs": [
        {
          "output_type": "stream",
          "name": "stdout",
          "text": [
            "Rows of resampled data: 8214\n",
            "Number of probe attacks: 4107, number of non-probe attacks: 4107\n"
          ]
        }
      ]
    },
    {
      "cell_type": "markdown",
      "metadata": {
        "id": "gMDX34hLoxSQ"
      },
      "source": [
        "## Train-Test Split"
      ]
    },
    {
      "cell_type": "code",
      "execution_count": 5,
      "metadata": {
        "id": "m2SN9ovIoedD"
      },
      "outputs": [],
      "source": [
        "X_train, X_test, y_train, y_test = train_test_split(\n",
        "    X_resampled, y_resampled, test_size=0.2, random_state=42)"
      ]
    },
    {
      "cell_type": "markdown",
      "metadata": {
        "id": "H3irbzayFDrW"
      },
      "source": [
        "## Training the Logistic Regression Model"
      ]
    },
    {
      "cell_type": "code",
      "execution_count": 6,
      "metadata": {
        "colab": {
          "base_uri": "https://localhost:8080/"
        },
        "id": "fVFB-lvZE-N_",
        "outputId": "dffe5dcc-b5f9-4bc6-d691-2c93091f1cbb"
      },
      "outputs": [
        {
          "output_type": "stream",
          "name": "stdout",
          "text": [
            "Training Accuracy: 0.9998478161619236\n",
            "Testing Accuracy: 0.9987827145465612\n"
          ]
        }
      ],
      "source": [
        "# Train the model\n",
        "MAX_ITER = 10000\n",
        "model = LogisticRegression(max_iter=MAX_ITER)\n",
        "model.fit(X_train, y_train)\n",
        "\n",
        "# Predict on train and test sets\n",
        "y_train_pred = model.predict(X_train)\n",
        "y_test_pred = model.predict(X_test)\n",
        "\n",
        "# Calculate accuracy\n",
        "train_acc = accuracy_score(y_train, y_train_pred)\n",
        "test_acc = accuracy_score(y_test, y_test_pred)\n",
        "\n",
        "print(f\"Training Accuracy: {train_acc}\")\n",
        "print(f\"Testing Accuracy: {test_acc}\")"
      ]
    },
    {
      "cell_type": "markdown",
      "metadata": {
        "id": "6mfTxxXoLLaN"
      },
      "source": [
        "The model doesn't overfit, because it perform well on both train and test data."
      ]
    },
    {
      "cell_type": "code",
      "execution_count": 7,
      "metadata": {
        "colab": {
          "base_uri": "https://localhost:8080/"
        },
        "id": "3xzikYPCF2t1",
        "outputId": "30a5db49-5cc5-402c-b54e-e667b0c88159"
      },
      "outputs": [
        {
          "output_type": "stream",
          "name": "stdout",
          "text": [
            "Converged in 1682 iterations\n",
            "Top features: [('diff_srv_rate', 4.62789453396417), ('dst_host_diff_srv_rate', 4.0017835850351515), ('dst_host_same_src_port_rate', 3.643798203006648), ('dst_host_serror_rate', 2.9389873492858944), ('dst_host_rerror_rate', 1.9628127891238836), ('service_other', 1.6785178701547505), ('wrong_fragment', 1.5457049521482042), ('flag_REJ', 1.3895432286786855), ('same_srv_rate', 1.2879411574228097), ('flag_S0', 1.1759904624963289)]\n"
          ]
        }
      ],
      "source": [
        "print(f\"Converged in {model.n_iter_[0]} iterations\")\n",
        "\n",
        "# Feature importance (absolute value of weights)\n",
        "feature_importances = abs(model.coef_[0])\n",
        "important_features = sorted(\n",
        "    zip(X_resampled, feature_importances), key=lambda x: x[1], reverse=True)\n",
        "print(\"Top features:\", important_features[:10])"
      ]
    },
    {
      "cell_type": "markdown",
      "metadata": {
        "id": "CQJyogJiH3Go"
      },
      "source": [
        "`diff_srv_rate` means percent of connections to different services.  `dst_host_diff_srv_rate` means percent of destination host to different services. `dst_host_same_src_port_rate` means percent of destination host to same source port.The top ten features all looks highly related to attack class.\n",
        "Probe attacks are typically used to scan systems or networks for information such as open ports, running services, or system configurations. This reconnaissance helps attackers understand the target system's architecture, vulnerabilities, and weaknesses. Many of the features indicate target system's architecture weakness."
      ]
    },
    {
      "cell_type": "markdown",
      "metadata": {
        "id": "fT0mQ32UHiXr"
      },
      "source": [
        "## L1 vs L2 Regularization"
      ]
    },
    {
      "cell_type": "code",
      "execution_count": 8,
      "metadata": {
        "id": "C8ABxXR7HfyC"
      },
      "outputs": [],
      "source": [
        "# L1 Regularization\n",
        "model_l1 = LogisticRegression(penalty='l1', solver=\"saga\", max_iter=MAX_ITER)\n",
        "model_l1.fit(X_train, y_train)\n",
        "\n",
        "# L2 Regularization\n",
        "model_l2 = LogisticRegression(penalty='l2', max_iter=MAX_ITER)\n",
        "model_l2.fit(X_train, y_train)\n",
        "\n",
        "# Calculate and compare accuracies\n",
        "train_acc_l1 = accuracy_score(y_train, model_l1.predict(X_train))\n",
        "test_acc_l1 = accuracy_score(y_test, model_l1.predict(X_test))"
      ]
    },
    {
      "cell_type": "code",
      "source": [
        "train_acc_l2 = accuracy_score(y_train, model_l2.predict(X_train))\n",
        "test_acc_l2 = accuracy_score(y_test, model_l2.predict(X_test))\n",
        "\n",
        "print(f\"L1 - Converged in {model_l1.n_iter_[0]} iterations\")\n",
        "print(f\"L2 - Converged in {model_l2.n_iter_[0]} iterations\")\n",
        "\n",
        "print(f\"L1 - Training Accuracy: {train_acc_l1}, Testing Accuracy: {test_acc_l1}\")\n",
        "print(f\"L2 - Training Accuracy: {train_acc_l2}, Testing Accuracy: {test_acc_l2}\")"
      ],
      "metadata": {
        "colab": {
          "base_uri": "https://localhost:8080/"
        },
        "id": "vM3edkEtg8Ik",
        "outputId": "568c64e1-b350-41c6-a91d-ccee70f262c1"
      },
      "execution_count": 9,
      "outputs": [
        {
          "output_type": "stream",
          "name": "stdout",
          "text": [
            "L1 - Converged in 7770 iterations\n",
            "L2 - Converged in 1682 iterations\n",
            "L1 - Training Accuracy: 0.5119464312889971, Testing Accuracy: 0.5045648204503956\n",
            "L2 - Training Accuracy: 0.9998478161619236, Testing Accuracy: 0.9987827145465612\n"
          ]
        }
      ]
    },
    {
      "cell_type": "markdown",
      "source": [
        "The L2 model converge more quickly and L2 have a better accuracy. L1 performs bad on this dataset"
      ],
      "metadata": {
        "id": "eyurIA2VT9ey"
      }
    },
    {
      "cell_type": "markdown",
      "metadata": {
        "id": "WmdastyyJQv1"
      },
      "source": [
        "## Varying Regularization Strength"
      ]
    },
    {
      "cell_type": "code",
      "execution_count": 10,
      "metadata": {
        "id": "L0dG43yoJbK9",
        "colab": {
          "base_uri": "https://localhost:8080/",
          "height": 454
        },
        "outputId": "73c650c1-fa0b-4039-8cd5-7bbd70b1adac"
      },
      "outputs": [
        {
          "output_type": "display_data",
          "data": {
            "text/plain": [
              "<Figure size 640x480 with 1 Axes>"
            ],
            "image/png": "[encoded data removed]"
          },
          "metadata": {}
        }
      ],
      "source": [
        "regularization_strengths = [0.001, 0.01, 0.1, 1, 10]\n",
        "train_accuracies = []\n",
        "test_accuracies = []\n",
        "\n",
        "for c in regularization_strengths:\n",
        "    model_l2 = LogisticRegression(penalty='l2', C=c, max_iter=MAX_ITER)\n",
        "    model_l2.fit(X_train, y_train)\n",
        "\n",
        "    train_accuracies.append(accuracy_score(y_train, model_l2.predict(X_train)))\n",
        "    test_accuracies.append(accuracy_score(y_test, model_l2.predict(X_test)))\n",
        "\n",
        "plt.plot(regularization_strengths, train_accuracies, label='Train Accuracy')\n",
        "plt.plot(regularization_strengths, test_accuracies, label='Test Accuracy')\n",
        "plt.xscale('log')\n",
        "plt.xlabel('Regularization Strength (C)')\n",
        "plt.ylabel('Accuracy')\n",
        "plt.legend()\n",
        "plt.show()"
      ]
    },
    {
      "cell_type": "markdown",
      "source": [
        "Different regualrization have different accuracy. In this dataset, higher regularization strength have a higher accuracy."
      ],
      "metadata": {
        "id": "ofTpFgwhUMCY"
      }
    }
  ],
  "metadata": {
    "colab": {
      "provenance": []
    },
    "kernelspec": {
      "display_name": "Python 3",
      "name": "python3"
    },
    "language_info": {
      "name": "python"
    }
  },
  "nbformat": 4,
  "nbformat_minor": 0
}