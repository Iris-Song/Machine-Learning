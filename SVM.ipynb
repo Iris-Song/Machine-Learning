{
  "nbformat": 4,
  "nbformat_minor": 0,
  "metadata": {
    "colab": {
      "provenance": []
    },
    "kernelspec": {
      "name": "python3",
      "display_name": "Python 3"
    },
    "language_info": {
      "name": "python"
    }
  },
  "cells": [
    {
      "cell_type": "markdown",
      "source": [
        "# SVM"
      ],
      "metadata": {
        "id": "L9K8mPBFi9Cq"
      }
    },
    {
      "cell_type": "markdown",
      "source": [
        "## Import Library"
      ],
      "metadata": {
        "id": "JyWWbIe-iy5O"
      }
    },
    {
      "cell_type": "code",
      "execution_count": 1,
      "metadata": {
        "id": "mlO1Z-J5iohb"
      },
      "outputs": [],
      "source": [
        "import pandas as pd\n",
        "from sklearn.preprocessing import OneHotEncoder, MinMaxScaler\n",
        "from imblearn.under_sampling import RandomUnderSampler\n",
        "from sklearn.model_selection import train_test_split\n",
        "from sklearn.svm import SVC\n",
        "from sklearn.metrics import classification_report, confusion_matrix\n",
        "import numpy as np\n",
        "import matplotlib.pyplot as plt"
      ]
    },
    {
      "cell_type": "markdown",
      "source": [
        "## Load Dataset"
      ],
      "metadata": {
        "id": "SrLQoiYxj2UA"
      }
    },
    {
      "cell_type": "code",
      "source": [
        "df = pd.read_csv(\"kddcup99_csv.csv\", header=0)\n",
        "print(\"rows of original dataset:\", len(df))\n",
        "print(df.head())\n",
        "print(\"unique protocol_type:\", df['protocol_type'].unique())\n",
        "print(\"unique service:\", df['service'].unique())\n",
        "print(\"unique flag:\", df['flag'].unique())\n",
        "print(\"unique labels:\", df['label'].unique())"
      ],
      "metadata": {
        "colab": {
          "base_uri": "https://localhost:8080/"
        },
        "id": "5q6kTrUSj69i",
        "outputId": "af064d87-90a4-4645-b0bf-407a13a0cafa"
      },
      "execution_count": 2,
      "outputs": [
        {
          "output_type": "stream",
          "name": "stdout",
          "text": [
            "rows of original dataset: 494020\n",
            "   duration protocol_type service flag  src_bytes  dst_bytes  land  \\\n",
            "0         0           tcp    http   SF        181       5450     0   \n",
            "1         0           tcp    http   SF        239        486     0   \n",
            "2         0           tcp    http   SF        235       1337     0   \n",
            "3         0           tcp    http   SF        219       1337     0   \n",
            "4         0           tcp    http   SF        217       2032     0   \n",
            "\n",
            "   wrong_fragment  urgent  hot  ...  dst_host_srv_count  \\\n",
            "0               0       0    0  ...                   9   \n",
            "1               0       0    0  ...                  19   \n",
            "2               0       0    0  ...                  29   \n",
            "3               0       0    0  ...                  39   \n",
            "4               0       0    0  ...                  49   \n",
            "\n",
            "   dst_host_same_srv_rate  dst_host_diff_srv_rate  \\\n",
            "0                     1.0                     0.0   \n",
            "1                     1.0                     0.0   \n",
            "2                     1.0                     0.0   \n",
            "3                     1.0                     0.0   \n",
            "4                     1.0                     0.0   \n",
            "\n",
            "   dst_host_same_src_port_rate  dst_host_srv_diff_host_rate  \\\n",
            "0                         0.11                          0.0   \n",
            "1                         0.05                          0.0   \n",
            "2                         0.03                          0.0   \n",
            "3                         0.03                          0.0   \n",
            "4                         0.02                          0.0   \n",
            "\n",
            "   dst_host_serror_rate  dst_host_srv_serror_rate  dst_host_rerror_rate  \\\n",
            "0                   0.0                       0.0                   0.0   \n",
            "1                   0.0                       0.0                   0.0   \n",
            "2                   0.0                       0.0                   0.0   \n",
            "3                   0.0                       0.0                   0.0   \n",
            "4                   0.0                       0.0                   0.0   \n",
            "\n",
            "   dst_host_srv_rerror_rate   label  \n",
            "0                       0.0  normal  \n",
            "1                       0.0  normal  \n",
            "2                       0.0  normal  \n",
            "3                       0.0  normal  \n",
            "4                       0.0  normal  \n",
            "\n",
            "[5 rows x 42 columns]\n",
            "unique protocol_type: ['tcp' 'udp' 'icmp']\n",
            "unique service: ['http' 'smtp' 'finger' 'domain_u' 'auth' 'telnet' 'ftp' 'eco_i' 'ntp_u'\n",
            " 'ecr_i' 'other' 'private' 'pop_3' 'ftp_data' 'rje' 'time' 'mtp' 'link'\n",
            " 'remote_job' 'gopher' 'ssh' 'name' 'whois' 'domain' 'login' 'imap4'\n",
            " 'daytime' 'ctf' 'nntp' 'shell' 'IRC' 'nnsp' 'http_443' 'exec' 'printer'\n",
            " 'efs' 'courier' 'uucp' 'klogin' 'kshell' 'echo' 'discard' 'systat'\n",
            " 'supdup' 'iso_tsap' 'hostnames' 'csnet_ns' 'pop_2' 'sunrpc' 'uucp_path'\n",
            " 'netbios_ns' 'netbios_ssn' 'netbios_dgm' 'sql_net' 'vmnet' 'bgp' 'Z39_50'\n",
            " 'ldap' 'netstat' 'urh_i' 'X11' 'urp_i' 'pm_dump' 'tftp_u' 'tim_i' 'red_i']\n",
            "unique flag: ['SF' 'S1' 'REJ' 'S2' 'S0' 'S3' 'RSTO' 'RSTR' 'RSTOS0' 'OTH' 'SH']\n",
            "unique labels: ['normal' 'buffer_overflow' 'loadmodule' 'perl' 'neptune' 'smurf'\n",
            " 'guess_passwd' 'pod' 'teardrop' 'portsweep' 'ipsweep' 'land' 'ftp_write'\n",
            " 'back' 'imap' 'satan' 'phf' 'nmap' 'multihop' 'warezmaster' 'warezclient'\n",
            " 'spy' 'rootkit']\n"
          ]
        }
      ]
    },
    {
      "cell_type": "markdown",
      "source": [
        "## Preprocessing"
      ],
      "metadata": {
        "id": "hfZZtQkLjQg7"
      }
    },
    {
      "cell_type": "code",
      "source": [
        "# Get abnormal df\n",
        "df_abnormal = df[df.iloc[:, -1] != 'normal']\n",
        "\n",
        "# One-hot encode categorical features\n",
        "encoder = OneHotEncoder()\n",
        "df_encoded = encoder.fit_transform(df_abnormal[['protocol_type', 'service', 'flag']])\n",
        "\n",
        "# Convert sparse matrix to a DataFrame and reset the index\n",
        "df_encoded = pd.DataFrame(df_encoded.toarray(), columns=encoder.get_feature_names_out())\n",
        "df_encoded.reset_index(drop=True, inplace=True)\n",
        "\n",
        "# Drop the original categorical columns from df_abnormal\n",
        "df_abnormal_dropped = df_abnormal.drop(columns=['protocol_type', 'service', 'flag']).reset_index(drop=True)\n",
        "\n",
        "# Combine df_encoded (one-hot encoded) and df_abnormal_dropped (the rest of the columns)\n",
        "df_filtered = pd.concat([df_abnormal_dropped, df_encoded], axis=1)\n",
        "\n",
        "# Classify data into dos and not dos classes\n",
        "DOS = ['back', 'land', 'neptune', 'pod', 'smurf', 'teardrop']\n",
        "df_filtered['dos'] = df_filtered['label'].apply(\n",
        "    lambda x: 1 if x in DOS else -1\n",
        ")\n",
        "\n",
        "# Remove column \"label\"\n",
        "df_filtered.drop(columns=['label'], inplace=True)\n",
        "\n",
        "# Count number of dos and non-dos attacks\n",
        "dos_num = (df_filtered['dos'] == 1).sum()\n",
        "nondos_num = (df_filtered['dos'] == -1).sum()\n",
        "\n",
        "# Display the filtered dataframe\n",
        "print(\"Rows of filtered data:\", len(df_filtered))\n",
        "print(f\"Number of dos: {dos_num}, number of non-dos: {nondos_num}\")\n",
        "print(df_filtered.head())"
      ],
      "metadata": {
        "colab": {
          "base_uri": "https://localhost:8080/"
        },
        "id": "1cFy4BftjQI9",
        "outputId": "a62f12fe-5209-4d82-ad32-5565f51c6c9f"
      },
      "execution_count": 3,
      "outputs": [
        {
          "output_type": "stream",
          "name": "stdout",
          "text": [
            "Rows of filtered data: 396743\n",
            "Number of dos: 391458, number of non-dos: 5285\n",
            "   duration  src_bytes  dst_bytes  land  wrong_fragment  urgent  hot  \\\n",
            "0       184       1511       2957     0               0       0    3   \n",
            "1       305       1735       2766     0               0       0    3   \n",
            "2        79        281       1301     0               0       0    2   \n",
            "3        25        269       2333     0               0       0    0   \n",
            "4         0          0          0     0               0       0    0   \n",
            "\n",
            "   num_failed_logins  logged_in  lnum_compromised  ...  flag_RSTO  \\\n",
            "0                  0          1                 2  ...        0.0   \n",
            "1                  0          1                 2  ...        0.0   \n",
            "2                  0          1                 1  ...        0.0   \n",
            "3                  0          1                 0  ...        0.0   \n",
            "4                  0          0                 0  ...        0.0   \n",
            "\n",
            "   flag_RSTOS0  flag_RSTR  flag_S0  flag_S1  flag_S2  flag_S3  flag_SF  \\\n",
            "0          0.0        0.0      0.0      0.0      0.0      0.0      1.0   \n",
            "1          0.0        0.0      0.0      0.0      0.0      0.0      1.0   \n",
            "2          0.0        0.0      0.0      0.0      0.0      0.0      1.0   \n",
            "3          0.0        0.0      0.0      0.0      0.0      0.0      1.0   \n",
            "4          0.0        0.0      1.0      0.0      0.0      0.0      0.0   \n",
            "\n",
            "   flag_SH  dos  \n",
            "0      0.0   -1  \n",
            "1      0.0   -1  \n",
            "2      0.0   -1  \n",
            "3      0.0   -1  \n",
            "4      0.0    1  \n",
            "\n",
            "[5 rows x 115 columns]\n"
          ]
        }
      ]
    },
    {
      "cell_type": "markdown",
      "source": [
        "## Scale & Resample data"
      ],
      "metadata": {
        "id": "zKlsnfgZl5FM"
      }
    },
    {
      "cell_type": "code",
      "source": [
        "# Split the DataFrame into features (X) and target (y)\n",
        "X = df_filtered.iloc[:, :-1]  # All columns except the last one (features)\n",
        "y = df_filtered['dos']  # The 'dos' column (target)\n",
        "\n",
        "# Scale the dataset\n",
        "scaler = MinMaxScaler()\n",
        "X_scaled = scaler.fit_transform(df_filtered)\n",
        "\n",
        "# Set up the resampling strategy\n",
        "sampling_strategy = {label: int(min(dos_num,nondos_num)*0.5) for label in [-1,1]}\n",
        "\n",
        "# Apply RandomUnderSampler with the strategy,\n",
        "# majority and minority classes are equal, and their number is set to 50%\n",
        "rus = RandomUnderSampler(sampling_strategy=sampling_strategy, random_state=42)\n",
        "X_resampled, y_resampled = rus.fit_resample(X, y)\n",
        "\n",
        "# Count number of dos and non-dos attacks\n",
        "dos_num = (y_resampled == 1).sum()\n",
        "nondos_num = (y_resampled == -1).sum()\n",
        "\n",
        "# Display the resampled dataframe\n",
        "print(\"Rows after resampled data:\", len(X_resampled))\n",
        "print(f\"Number of dos: {dos_num}, number of non-dos attacks: {nondos_num}\")"
      ],
      "metadata": {
        "colab": {
          "base_uri": "https://localhost:8080/"
        },
        "id": "jyZVXaLmjLpi",
        "outputId": "bd780a15-c226-4e31-e538-aa100bbbf46b"
      },
      "execution_count": 4,
      "outputs": [
        {
          "output_type": "stream",
          "name": "stdout",
          "text": [
            "Rows after resampled data: 5284\n",
            "Number of dos: 2642, number of non-dos attacks: 2642\n"
          ]
        }
      ]
    },
    {
      "cell_type": "markdown",
      "source": [
        "## Train-Test Split"
      ],
      "metadata": {
        "id": "gd3iCjiymIvt"
      }
    },
    {
      "cell_type": "code",
      "source": [
        "X_train, X_test, y_train, y_test = train_test_split(\n",
        "    X_resampled, y_resampled, test_size=0.2, random_state=42)"
      ],
      "metadata": {
        "id": "lkaukOc8mMfV"
      },
      "execution_count": 5,
      "outputs": []
    },
    {
      "cell_type": "markdown",
      "source": [
        "## Running SVM with Different Kernels"
      ],
      "metadata": {
        "id": "Zz1ineHLmZ4f"
      }
    },
    {
      "cell_type": "code",
      "source": [
        "kernels = ['linear', 'poly', 'rbf', 'sigmoid']\n",
        "for kernel in kernels:\n",
        "    svm_model = SVC(kernel=kernel)\n",
        "    svm_model.fit(X_train, y_train)\n",
        "    y_pred = svm_model.predict(X_test)\n",
        "\n",
        "    print(f\"Kernel: {kernel}\")\n",
        "    print(confusion_matrix(y_test, y_pred))\n",
        "    print(classification_report(y_test, y_pred))\n",
        "    print()"
      ],
      "metadata": {
        "colab": {
          "base_uri": "https://localhost:8080/"
        },
        "id": "ciQ-C_vLmZK1",
        "outputId": "389cd785-6c9f-48ab-b751-a2e5878165f5"
      },
      "execution_count": 6,
      "outputs": [
        {
          "output_type": "stream",
          "name": "stdout",
          "text": [
            "Kernel: linear\n",
            "[[534   0]\n",
            " [  0 523]]\n",
            "              precision    recall  f1-score   support\n",
            "\n",
            "          -1       1.00      1.00      1.00       534\n",
            "           1       1.00      1.00      1.00       523\n",
            "\n",
            "    accuracy                           1.00      1057\n",
            "   macro avg       1.00      1.00      1.00      1057\n",
            "weighted avg       1.00      1.00      1.00      1057\n",
            "\n",
            "\n",
            "Kernel: poly\n",
            "[[ 12 522]\n",
            " [  0 523]]\n",
            "              precision    recall  f1-score   support\n",
            "\n",
            "          -1       1.00      0.02      0.04       534\n",
            "           1       0.50      1.00      0.67       523\n",
            "\n",
            "    accuracy                           0.51      1057\n",
            "   macro avg       0.75      0.51      0.36      1057\n",
            "weighted avg       0.75      0.51      0.35      1057\n",
            "\n",
            "\n",
            "Kernel: rbf\n",
            "[[ 13 521]\n",
            " [  0 523]]\n",
            "              precision    recall  f1-score   support\n",
            "\n",
            "          -1       1.00      0.02      0.05       534\n",
            "           1       0.50      1.00      0.67       523\n",
            "\n",
            "    accuracy                           0.51      1057\n",
            "   macro avg       0.75      0.51      0.36      1057\n",
            "weighted avg       0.75      0.51      0.35      1057\n",
            "\n",
            "\n",
            "Kernel: sigmoid\n",
            "[[ 10 524]\n",
            " [  5 518]]\n",
            "              precision    recall  f1-score   support\n",
            "\n",
            "          -1       0.67      0.02      0.04       534\n",
            "           1       0.50      0.99      0.66       523\n",
            "\n",
            "    accuracy                           0.50      1057\n",
            "   macro avg       0.58      0.50      0.35      1057\n",
            "weighted avg       0.58      0.50      0.35      1057\n",
            "\n",
            "\n"
          ]
        }
      ]
    },
    {
      "cell_type": "markdown",
      "source": [
        "## Compare result and disscuss pros & cons on different kernels\n",
        "\n",
        "As you can see in the result, linear kernel perform the best on the dataset no matter on percision or recall. Rbf and sigmoid perform bad.\n",
        "\n",
        "**Linear Kernel:** Works well for linearly separable data, faster to train, but may struggle with complex decision boundaries.\n",
        "\n",
        "**RBF Kernel:** Can handle non-linear data and complex patterns but is slower and computationally expensive.\n",
        "\n",
        "**Polynomial Kernel:** Adds flexibility by allowing curved decision boundaries but introduces complexity in high-dimensional data.\n",
        "\n",
        "**Sigmoid Kernel:** Similar to neural networks, but can perform poorly unless well-tuned."
      ],
      "metadata": {
        "id": "lW9aRKtLw8p-"
      }
    },
    {
      "cell_type": "markdown",
      "source": [
        "## Using Two Features and Visualizing the Decision Boundary"
      ],
      "metadata": {
        "id": "IehGR-MZoB1k"
      }
    },
    {
      "cell_type": "code",
      "source": [
        "# Assume we selected two features from X\n",
        "X_two_features = X_resampled[['srv_count', 'serror_rate']]\n",
        "scaler = MinMaxScaler()\n",
        "X_scaled_two = scaler.fit_transform(X_two_features)\n",
        "\n",
        "# Further subsample\n",
        "X_subsampled, X_test, y_subsampled, y_test = train_test_split(X_scaled_two, y_resampled, train_size=0.1, random_state=42)\n",
        "\n",
        "# Function to visualize the decision boundary\n",
        "def plot_decision_boundary(model, X, y):\n",
        "    x_min, x_max = X[:, 0].min() - 1, X[:, 0].max() + 1\n",
        "    y_min, y_max = X[:, 1].min() - 1, X[:, 1].max() + 1\n",
        "    xx, yy = np.meshgrid(np.arange(x_min, x_max, 0.01), np.arange(y_min, y_max, 0.01))\n",
        "    Z = model.predict(np.c_[xx.ravel(), yy.ravel()])\n",
        "    Z = Z.reshape(xx.shape)\n",
        "    plt.contourf(xx, yy, Z, alpha=0.8)\n",
        "    plt.scatter(X[:, 0], X[:, 1], c=y, edgecolors='k', marker='o')\n",
        "    plt.show()\n",
        "\n",
        "kernels = ['linear', 'rbf']\n",
        "for kernel in kernels:\n",
        "    svm_model = SVC(kernel=kernel)\n",
        "    svm_model.fit(X_subsampled, y_subsampled)\n",
        "    y_pred = svm_model.predict(X_test)\n",
        "    print(classification_report(y_test, y_pred))\n",
        "    plot_decision_boundary(svm_model, X_subsampled, y_subsampled)"
      ],
      "metadata": {
        "colab": {
          "base_uri": "https://localhost:8080/",
          "height": 1000
        },
        "id": "RzZSpkrKoEIo",
        "outputId": "615b531e-4751-49ce-d73f-657f848a196a"
      },
      "execution_count": 12,
      "outputs": [
        {
          "output_type": "stream",
          "name": "stdout",
          "text": [
            "              precision    recall  f1-score   support\n",
            "\n",
            "          -1       0.93      0.97      0.95      2398\n",
            "           1       0.97      0.93      0.95      2358\n",
            "\n",
            "    accuracy                           0.95      4756\n",
            "   macro avg       0.95      0.95      0.95      4756\n",
            "weighted avg       0.95      0.95      0.95      4756\n",
            "\n"
          ]
        },
        {
          "output_type": "display_data",
          "data": {
            "text/plain": [
              "<Figure size 640x480 with 1 Axes>"
            ],
            "image/png": "[encoded data removed]"
          },
          "metadata": {}
        },
        {
          "output_type": "stream",
          "name": "stdout",
          "text": [
            "              precision    recall  f1-score   support\n",
            "\n",
            "          -1       0.93      0.98      0.95      2398\n",
            "           1       0.98      0.93      0.95      2358\n",
            "\n",
            "    accuracy                           0.95      4756\n",
            "   macro avg       0.95      0.95      0.95      4756\n",
            "weighted avg       0.95      0.95      0.95      4756\n",
            "\n"
          ]
        },
        {
          "output_type": "display_data",
          "data": {
            "text/plain": [
              "<Figure size 640x480 with 1 Axes>"
            ],
            "image/png": "[encoded data removed]"
          },
          "metadata": {}
        }
      ]
    },
    {
      "cell_type": "markdown",
      "source": [
        "## Discuss result\n",
        "\n",
        "using two feature `srv_count`, `serror_rate`, both kernel perform well on the dataset. The linear kernel sperate two class linearly, while rbf seperate it non-linearly. Linear kernel boundary is a straight line, while rbf kernel has curved, complex decision boundaries."
      ],
      "metadata": {
        "id": "6ndseJHD1IGp"
      }
    }
  ]
}